{
 "cells": [
  {
   "cell_type": "markdown",
   "id": "9c7785bc-19d7-4a00-b86c-54f95b88ec14",
   "metadata": {},
   "source": [
    "## Bac à sable"
   ]
  },
  {
   "cell_type": "code",
   "execution_count": 1,
   "id": "79a3317c-473d-4add-a007-c80d2b40d4fb",
   "metadata": {},
   "outputs": [
    {
     "name": "stdout",
     "output_type": "stream",
     "text": [
      "3.141592653589793\n",
      "2.718281828459045\n"
     ]
    }
   ],
   "source": [
    "import math\n",
    "print(math.pi)\n",
    "print(math.e)\n"
   ]
  },
  {
   "cell_type": "code",
   "execution_count": null,
   "id": "06f87c60-aea1-4205-99ed-5eac9487ad9a",
   "metadata": {},
   "outputs": [],
   "source": []
  }
 ],
 "metadata": {
  "kernelspec": {
   "display_name": "Python 3 (ipykernel)",
   "language": "python",
   "name": "python3"
  },
  "language_info": {
   "codemirror_mode": {
    "name": "ipython",
    "version": 3
   },
   "file_extension": ".py",
   "mimetype": "text/x-python",
   "name": "python",
   "nbconvert_exporter": "python",
   "pygments_lexer": "ipython3",
   "version": "3.11.2"
  }
 },
 "nbformat": 4,
 "nbformat_minor": 5
}
