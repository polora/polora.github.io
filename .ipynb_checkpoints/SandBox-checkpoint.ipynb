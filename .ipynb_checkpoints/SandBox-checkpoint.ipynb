{
 "cells": [
  {
   "cell_type": "markdown",
   "id": "9c7785bc-19d7-4a00-b86c-54f95b88ec14",
   "metadata": {},
   "source": [
    "## Bac à sable"
   ]
  },
  {
   "cell_type": "code",
   "execution_count": 3,
   "id": "79a3317c-473d-4add-a007-c80d2b40d4fb",
   "metadata": {},
   "outputs": [
    {
     "data": {
      "text/plain": [
       "2.718281828459045"
      ]
     },
     "execution_count": 3,
     "metadata": {},
     "output_type": "execute_result"
    }
   ],
   "source": [
    "import math\n",
    "x = math.pi\n",
    "y = math.e\n",
    "x\n",
    "y"
   ]
  },
  {
   "cell_type": "markdown",
   "id": "d10f7de7-57ec-4cd8-9a77-b736fd8c9668",
   "metadata": {},
   "source": [
    "Test intégration LATeX\n",
    "\n",
    "$x^3  + 2xy = 82$ avec $x, y \\in \\mathbb{N}$\n",
    "\n",
    "$x^3  + 2xy = 81$\n",
    "\n",
    "Par exemple, considérons la limite $\\displaystyle \\sum_{n=1}^\\infty \\frac 1 {n^2}$. Vous vous rappelez peut-être que cette somme vaut $\\displaystyle \\frac{\\pi^2}{k}$ où $k$ est un entier (sinon, vous le savez maintenant). Retrouvons la valeur de $k$."
   ]
  },
  {
   "cell_type": "code",
   "execution_count": null,
   "id": "06f87c60-aea1-4205-99ed-5eac9487ad9a",
   "metadata": {},
   "outputs": [],
   "source": []
  }
 ],
 "metadata": {
  "kernelspec": {
   "display_name": "Python 3 (ipykernel)",
   "language": "python",
   "name": "python3"
  },
  "language_info": {
   "codemirror_mode": {
    "name": "ipython",
    "version": 3
   },
   "file_extension": ".py",
   "mimetype": "text/x-python",
   "name": "python",
   "nbconvert_exporter": "python",
   "pygments_lexer": "ipython3",
   "version": "3.11.2"
  }
 },
 "nbformat": 4,
 "nbformat_minor": 5
}
