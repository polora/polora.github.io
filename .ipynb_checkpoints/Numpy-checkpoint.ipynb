{
 "cells": [
  {
   "cell_type": "markdown",
   "id": "9c7785bc-19d7-4a00-b86c-54f95b88ec14",
   "metadata": {},
   "source": [
    "# Utilisation de numpy"
   ]
  },
  {
   "cell_type": "code",
   "execution_count": null,
   "id": "79a3317c-473d-4add-a007-c80d2b40d4fb",
   "metadata": {},
   "outputs": [],
   "source": [
    "Sources\n",
    "https://www.youtube.com/watch?v=NzDQTrqsxas\n",
    "Python pour la Data Science - Jake VanderPlas"
   ]
  },
  {
   "cell_type": "markdown",
   "id": "1c73206a-0170-412a-a006-9d3837ad6eca",
   "metadata": {},
   "source": [
    "### Premier tableau à n dimensions (ndarray) et quelques attributs généralement utilisés\n"
   ]
  },
  {
   "cell_type": "code",
   "execution_count": 14,
   "id": "2a9c807e-970d-4590-a047-78aef6a1f336",
   "metadata": {},
   "outputs": [
    {
     "name": "stdout",
     "output_type": "stream",
     "text": [
      "Dimension :  1\n",
      "Forme :  (3,)\n",
      "Nombre éléments :  3\n"
     ]
    }
   ],
   "source": [
    "import numpy as np\n",
    "\n",
    "# tableau à 1 dimension\n",
    "tab1 = np.array([1,2,3])\n",
    "\n",
    "# afficher la dimension du tableau\n",
    "print(\"Dimension : \", tab1.ndim)\n",
    "# afficher la forme du tableau\n",
    "print(\"Forme : \", tab1.shape)\n",
    "# afficher le nombre d'éléments dans le tableau\n",
    "print(\"Nombre éléments : \", tab1.size)"
   ]
  },
  {
   "cell_type": "markdown",
   "id": "43692a5c-49d2-42df-947c-0ec76c6b365b",
   "metadata": {},
   "source": [
    "### Quelques méthodes"
   ]
  },
  {
   "cell_type": "code",
   "execution_count": 18,
   "id": "1d1ce47a-4c05-44e5-bb8f-2d59675fb7b6",
   "metadata": {},
   "outputs": [
    {
     "name": "stdout",
     "output_type": "stream",
     "text": [
      "Tableau rempli de 0\n",
      "[[0. 0.]\n",
      " [0. 0.]\n",
      " [0. 0.]]\n",
      "Tableau rempli de 1\n",
      "[[1. 1. 1.]\n",
      " [1. 1. 1.]\n",
      " [1. 1. 1.]\n",
      " [1. 1. 1.]]\n"
     ]
    }
   ],
   "source": [
    "import numpy as np\n",
    "\n",
    "# Créer un tableau de 3 lignes et 2 colonnes rempli de 0\n",
    "tab2 = np.zeros((3,2))\n",
    "print('Tableau rempli de 0')\n",
    "print(tab2)\n",
    "# Créer un tableau de 4 lignes et 3 colonnes rempli de 1\n",
    "tab3 = np.ones((4,3))\n",
    "print('Tableau rempli de 1')\n",
    "print(tab3)\n",
    "# Créer un tableau rempli de nombres aléatoires\n",
    "print('Tableau rempli de nombres aléatoires')\n"
   ]
  },
  {
   "cell_type": "code",
   "execution_count": null,
   "id": "461193fe-125c-4114-92e3-c5b034013ac5",
   "metadata": {},
   "outputs": [],
   "source": []
  }
 ],
 "metadata": {
  "kernelspec": {
   "display_name": "Python 3 (ipykernel)",
   "language": "python",
   "name": "python3"
  },
  "language_info": {
   "codemirror_mode": {
    "name": "ipython",
    "version": 3
   },
   "file_extension": ".py",
   "mimetype": "text/x-python",
   "name": "python",
   "nbconvert_exporter": "python",
   "pygments_lexer": "ipython3",
   "version": "3.11.2"
  }
 },
 "nbformat": 4,
 "nbformat_minor": 5
}
