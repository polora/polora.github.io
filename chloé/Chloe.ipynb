{
 "cells": [
  {
   "cell_type": "markdown",
   "id": "5d71591a-6392-49f8-bc8a-9ccfc18a38f2",
   "metadata": {},
   "source": [
    "# Cours Python Chloé"
   ]
  },
  {
   "cell_type": "code",
   "execution_count": 1,
   "id": "ed3f9c61-777a-419b-a7de-776295189e05",
   "metadata": {},
   "outputs": [],
   "source": [
    "# Instructions pour que plusieurs outputs soient possibles par cellule\n",
    "\n",
    "from IPython.core.interactiveshell import InteractiveShell\n",
    "InteractiveShell.ast_node_interactivity = \"all\"\n"
   ]
  },
  {
   "cell_type": "markdown",
   "id": "6ef292cb-f319-4fd8-8f68-9e6f1e420a87",
   "metadata": {},
   "source": [
    "Python : langage de programmation créé par Guido Von Rossum en 1991"
   ]
  },
  {
   "cell_type": "markdown",
   "id": "00d7c6a4-8732-475b-9044-74c7f3d62f09",
   "metadata": {},
   "source": [
    "## Affichage et commentaires"
   ]
  },
  {
   "cell_type": "code",
   "execution_count": 11,
   "id": "542ce121-191a-4c73-8642-8a19ffb267cf",
   "metadata": {},
   "outputs": [
    {
     "name": "stdout",
     "output_type": "stream",
     "text": [
      "Hello World !\n"
     ]
    }
   ],
   "source": [
    "# Mettre un ou plusieurs commentaires dans son programme (le plus souvent, pour le rendre plus lisible)\n",
    "\n",
    "## Afficher du texte ou le contenu d'une variable : print()\n",
    "print('Hello World !')"
   ]
  },
  {
   "cell_type": "markdown",
   "id": "8d285447-ded9-45a2-b55d-afcb12cec7fd",
   "metadata": {},
   "source": [
    "## Dialoguer avec l'utilisateur"
   ]
  },
  {
   "cell_type": "code",
   "execution_count": 4,
   "id": "149aa5f0-9c99-4549-bbf2-9f6fdf719aed",
   "metadata": {},
   "outputs": [
    {
     "name": "stdin",
     "output_type": "stream",
     "text": [
      "Entre ton pseudo :  polora\n"
     ]
    },
    {
     "name": "stdout",
     "output_type": "stream",
     "text": [
      "Bienvenue dans ce cours polora\n"
     ]
    }
   ],
   "source": [
    "# pour dialoguer avec l'utilisateur on utilise l'instruction input()\n",
    "\n",
    "# exemple\n",
    "tonPseudo = input('Entre ton pseudo : ')\n",
    "print('Bienvenue dans ce cours', tonPseudo)"
   ]
  },
  {
   "cell_type": "markdown",
   "id": "94a503f1-594b-43f1-8ed2-b459427d7182",
   "metadata": {},
   "source": [
    "## Variables"
   ]
  },
  {
   "cell_type": "markdown",
   "id": "de4efd57-85b7-4ea7-8872-fc79176efe56",
   "metadata": {},
   "source": [
    "Variable : sert a stocker en mémoire une valeur.\\\n",
    "Une variable a __une durée de vie limitée__ (celle de la fonction ou du programme).\\\n",
    "La valeur à l'intérieur d'une variable __peut changer__.\n"
   ]
  },
  {
   "cell_type": "markdown",
   "id": "148562da-7db4-457a-8262-bf4fc4fc3d2e",
   "metadata": {},
   "source": [
    "### Déclaration d'une variable"
   ]
  },
  {
   "cell_type": "markdown",
   "id": "ddb14b4f-b203-41bf-b07a-6dbaae7d0f1b",
   "metadata": {},
   "source": [
    "Choisir un nom de variable en respectant les règles suivantes :\n",
    "- Le nom d’une variable ne peut contenir que des lettres (minuscules et majuscules), des chiffres, le signe undescore ( _ )\n",
    "- Le nom d’une variable ne peut pas commencer par un chiffre ni contenir des lettres avec accent.\n",
    "- Le nom d'une variable est sensible à la casse : la variable Start n'est pas la même que start.\n",
    "\n",
    "Ensuite, on déclare une variable en lui affectant une valeur (éventuellement nulle) : _NomVariable = 0_"
   ]
  },
  {
   "cell_type": "markdown",
   "id": "64968c9b-4ea8-44a2-b648-ed18846e98ca",
   "metadata": {},
   "source": [
    "### Types de variable"
   ]
  },
  {
   "cell_type": "markdown",
   "id": "fcf08ed7-039b-4901-ace9-d24f2b6d35d2",
   "metadata": {},
   "source": [
    "__En Python, contrairement à d'autres langages comme C, il n'est pas nécessaire de préciser le type de la variable, Python le trouve automatiquement.__"
   ]
  },
  {
   "cell_type": "markdown",
   "id": "02e4de27-4fbd-4ed5-9022-27f599b1bce6",
   "metadata": {},
   "source": [
    "## Faire des calculs"
   ]
  },
  {
   "cell_type": "code",
   "execution_count": 4,
   "id": "d6a530d5-6a91-43d7-8c90-82c3059eb019",
   "metadata": {},
   "outputs": [
    {
     "data": {
      "text/plain": [
       "7"
      ]
     },
     "execution_count": 4,
     "metadata": {},
     "output_type": "execute_result"
    },
    {
     "data": {
      "text/plain": [
       "3"
      ]
     },
     "execution_count": 4,
     "metadata": {},
     "output_type": "execute_result"
    },
    {
     "data": {
      "text/plain": [
       "10"
      ]
     },
     "execution_count": 4,
     "metadata": {},
     "output_type": "execute_result"
    },
    {
     "data": {
      "text/plain": [
       "2.5"
      ]
     },
     "execution_count": 4,
     "metadata": {},
     "output_type": "execute_result"
    },
    {
     "data": {
      "text/plain": [
       "2"
      ]
     },
     "execution_count": 4,
     "metadata": {},
     "output_type": "execute_result"
    },
    {
     "data": {
      "text/plain": [
       "1"
      ]
     },
     "execution_count": 4,
     "metadata": {},
     "output_type": "execute_result"
    },
    {
     "data": {
      "text/plain": [
       "25"
      ]
     },
     "execution_count": 4,
     "metadata": {},
     "output_type": "execute_result"
    }
   ],
   "source": [
    "## Calculs habituels avec les deux variables suivantes\n",
    "a = 5\n",
    "b = 2\n",
    "\n",
    "# addition 5 + 2\n",
    "a + b\n",
    "\n",
    "# soustraction 5 - 2\n",
    "a - b\n",
    " \n",
    "# multiplication 5 x 2\n",
    "a * b\n",
    "\n",
    "# division \n",
    "a / b\n",
    "\n",
    "# quotient\n",
    "a // b\n",
    "\n",
    "# reste de la division (5 = 2 x 2 + 1 donc le reste est 1)\n",
    "a % b\n",
    "\n",
    "# puissance\n",
    "a ** b"
   ]
  },
  {
   "cell_type": "markdown",
   "id": "b83e47df-a6c2-4a19-afbd-ec088b0f2d26",
   "metadata": {},
   "source": [
    "## Comparer des valeurs"
   ]
  },
  {
   "cell_type": "markdown",
   "id": "63eebf69-2258-4ebb-b50b-0a3c3cab7059",
   "metadata": {},
   "source": [
    "< : inférieur à.\\\n",
    "\\> : supérieur à.\\\n",
    "<= : inférieur ou égal à.\\\n",
    "\\>= : supérieur ou égal à.\\\n",
    "\\== : égal à.\\\n",
    "!= : différent de.\n"
   ]
  },
  {
   "cell_type": "markdown",
   "id": "340a1be6-f7ce-4b81-ad11-cfca42dbe1c0",
   "metadata": {},
   "source": [
    "## Conditions\n",
    "\n",
    "Pour que notre programme réagisse différemment en fonction de plusieurs paramètres.\n"
   ]
  },
  {
   "cell_type": "code",
   "execution_count": 5,
   "id": "ef666a74-1678-4599-8e51-cc6740dc40ff",
   "metadata": {},
   "outputs": [
    {
     "name": "stdin",
     "output_type": "stream",
     "text": [
      "Entre ton mot de passe :  secret\n"
     ]
    },
    {
     "name": "stdout",
     "output_type": "stream",
     "text": [
      "OK, accès autorisé\n"
     ]
    }
   ],
   "source": [
    "## exemple de condition\n",
    "\n",
    "motDePasse = 'secret'\n",
    "saisieUtilisateur = input('Entre ton mot de passe : ')\n",
    "\n",
    "if saisieUtilisateur == motDePasse:\n",
    "    print('OK, accès autorisé')\n",
    "else:\n",
    "    print('Refus !!!')"
   ]
  },
  {
   "cell_type": "markdown",
   "id": "b97c1f4e-4519-4a2e-8baa-b22284694710",
   "metadata": {},
   "source": [
    "## Les boucles\n",
    "\n",
    "Pour répéter plusieurs fois une instruction.\n"
   ]
  },
  {
   "cell_type": "markdown",
   "id": "350c1d52-f217-40f8-bd63-b6e8961959ad",
   "metadata": {},
   "source": [
    "### Boucle for"
   ]
  },
  {
   "cell_type": "code",
   "execution_count": 91,
   "id": "d77c6610-1d99-4f2c-9129-0c0028affa57",
   "metadata": {},
   "outputs": [
    {
     "name": "stdout",
     "output_type": "stream",
     "text": [
      "0\n",
      "2\n",
      "4\n",
      "6\n",
      "8\n",
      "[0, 2, 4, 6, 8]\n",
      "The history saving thread hit an unexpected error (OperationalError('attempt to write a readonly database')).History will not be written to the database.\n"
     ]
    }
   ],
   "source": [
    "# exemple d'utilisation de la boucle for\n",
    "\n",
    "# for valeur in range(start, stop, step)\n",
    "for i in range(0,10,2):    # remarque : 10 non inclus\n",
    "    print(i)\n",
    "\n",
    "# autre façon d'écrire (pour peupler un tableau par exemple\n",
    "tableau = [i for i in range(0,10,2)]\n",
    "print(tableau)"
   ]
  },
  {
   "cell_type": "markdown",
   "id": "186cb438-a1d0-4642-8438-16e22600e214",
   "metadata": {},
   "source": [
    "### Boucle while"
   ]
  },
  {
   "cell_type": "code",
   "execution_count": 14,
   "id": "6dab6b5c-76d4-478a-9d44-3374c2ff3e34",
   "metadata": {},
   "outputs": [
    {
     "name": "stdout",
     "output_type": "stream",
     "text": [
      "0\n",
      "2\n",
      "4\n",
      "6\n",
      "8\n"
     ]
    }
   ],
   "source": [
    "# exemple d'utilisation de la boucle while\n",
    "i = 0             # initialisation de i\n",
    "while i < 10:     # tant que i est strictement inférieur à 10\n",
    "    print(i)\n",
    "    i += 2        # on incrémente i de 2"
   ]
  },
  {
   "cell_type": "markdown",
   "id": "b8bb238a-e5a5-4938-a53d-46cd019c7789",
   "metadata": {},
   "source": [
    "### Différence entre une boucle for et une boucle while\n",
    "\n",
    "On utilise __for__ quand on connaît à l'avance le nombre d'itérations. Par contre, __while__ sera utilisé quand on ne connaît pas le nombre de fois que le groupe d'instructions doit être exécuté."
   ]
  },
  {
   "cell_type": "markdown",
   "id": "a6cc2138-7551-4935-9fdc-8791f510c29c",
   "metadata": {},
   "source": [
    "## Exercice d'entraînement intermédiaire : trouver le nombre mystère"
   ]
  },
  {
   "cell_type": "code",
   "execution_count": 3,
   "id": "6e486d74-b941-419c-8c07-a717bbc7c4e4",
   "metadata": {},
   "outputs": [
    {
     "name": "stdin",
     "output_type": "stream",
     "text": [
      "Saisis ton nombre :  11\n"
     ]
    },
    {
     "name": "stdout",
     "output_type": "stream",
     "text": [
      "Raté... recommence !\n"
     ]
    },
    {
     "name": "stdin",
     "output_type": "stream",
     "text": [
      "Saisis ton nombre :  13\n"
     ]
    },
    {
     "name": "stdout",
     "output_type": "stream",
     "text": [
      "Raté... recommence !\n"
     ]
    },
    {
     "name": "stdin",
     "output_type": "stream",
     "text": [
      "Saisis ton nombre :  12\n"
     ]
    },
    {
     "name": "stdout",
     "output_type": "stream",
     "text": [
      "Gagné\n"
     ]
    }
   ],
   "source": [
    "# ici, pour plus de réalisme, on pourra demander à l'ordinateur de choisir un nombre au hasard\n",
    "# pour cela, on utilisera le module random fourni avec Python et la fonction randint (pour déterminer un entier\n",
    "# au hasard\n",
    "nombreMystere = 12\n",
    "monNombre = 0\n",
    "while monNombre != nombreMystere:\n",
    "    monNombre = input('Saisis ton nombre : ')\n",
    "    monNombre = int(monNombre)  # important pour que la variable soit considérée comme un entier et pas une chaîne de caractères.\n",
    "    if monNombre != nombreMystere:\n",
    "        print('Raté... recommence !')\n",
    "    else:\n",
    "        print('Gagné')\n",
    "\n",
    "# on peut compléter le programme en indiquant à l'utilisateur si le nombre qu'il propose est plus ou plus petit que le nombre mystère\n",
    "    "
   ]
  },
  {
   "cell_type": "markdown",
   "id": "e07db8ee-c839-4fe6-81ff-6f64f1e39932",
   "metadata": {},
   "source": [
    "## Les fonctions\n",
    "\n",
    "Les fonctions sont des morceaux de programme qui sont __réutilisables__. Cela évite de recopier plusieurs fois la même série d'instructions."
   ]
  },
  {
   "cell_type": "code",
   "execution_count": 10,
   "id": "dddef3cf-bbd5-4910-99ea-95173be6c1c8",
   "metadata": {},
   "outputs": [
    {
     "name": "stdin",
     "output_type": "stream",
     "text": [
      "Combien de notes pour calculer la moyenne ? : 5\n",
      "Note ? :  10\n",
      "Note ? :  12\n",
      "Note ? :  8\n",
      "Note ? :  15\n",
      "Note ? :  19\n"
     ]
    },
    {
     "name": "stdout",
     "output_type": "stream",
     "text": [
      "Moyenne de ces notes :  12.8\n"
     ]
    }
   ],
   "source": [
    "# Exemple d'une fonction qui calcule une moyenne\n",
    "\n",
    "def moyenne(nombreDeNotes):\n",
    "    somme = 0                             # initialise la somme des notes à 0\n",
    "    for i in range(nombreDeNotes):\n",
    "        note = int(input('Note ? : '))\n",
    "        somme += note                     # à chaque saisie utilisateur, on ajoute la note à la somme\n",
    "    return somme /nombreDeNotes           # on renvoie la moyenne\n",
    "\n",
    "# programme principal\n",
    "nombreNotesUtilisateur  = int(input('Combien de notes pour calculer la moyenne ? :'))\n",
    "maMoyenne = moyenne(nombreNotesUtilisateur)\n",
    "print('Moyenne de ces notes : ', maMoyenne)\n",
    "\n",
    "# amélioration possible : pour chaque saisie de notes, on peut vérifier que la note est bien un nombre et qu'il est bien compris entre 0 et \n",
    "# 20. On peut aussi gérer la liste des notes sous forme de tableau.\n"
   ]
  },
  {
   "cell_type": "markdown",
   "id": "16c042a1-ad8e-4dd1-81db-8d51c70d1fc4",
   "metadata": {},
   "source": [
    "On peut réutiliser cette fonction moyenne autant de fois que l'on veut ensuite.\n",
    "On peut également regrouper plusieurs fonctions que l'on aura écrites dans un __module__.\n"
   ]
  },
  {
   "cell_type": "markdown",
   "id": "ad6f5cf3-30da-40a8-afe9-3eabbd8ccc03",
   "metadata": {},
   "source": [
    "# MARKDOWN"
   ]
  },
  {
   "cell_type": "markdown",
   "id": "04fcadc4-78b2-46dd-a696-41206e186af9",
   "metadata": {},
   "source": [
    "# Titre de niveau 1\n",
    "## Titre de niveau 2\n",
    "...\n",
    "###### Titre niveau 6\n",
    "\n",
    "_italique_\n",
    "__gras__\n",
    "\n",
    "- puce 1\n",
    "- puce 2\n",
    "- puce 3\n",
    "\n",
    "[mon lien](https://www.polora.fr/)\n",
    "\n",
    "-----\n",
    "\n",
    "[Guide simplifié](https://code-garage.fr/blog/le-guide-simplifie-sur-la-syntaxe-markdown)"
   ]
  },
  {
   "cell_type": "markdown",
   "id": "b4103ced-7abf-4eda-9f63-a73826a18de0",
   "metadata": {},
   "source": [
    "# BAC à SABLE"
   ]
  },
  {
   "cell_type": "code",
   "execution_count": 8,
   "id": "2f26b69f-56be-4ff5-b976-563855f840c2",
   "metadata": {},
   "outputs": [
    {
     "name": "stdin",
     "output_type": "stream",
     "text": [
      "Entre ta moyenne :  10\n"
     ]
    },
    {
     "name": "stdout",
     "output_type": "stream",
     "text": [
      "Tu passes... Mais c'est juste !\n"
     ]
    }
   ],
   "source": [
    "saisie = int(input('Entre ta moyenne : '))\n",
    "['Margie', 'White', 'basset', 'Mooksie']\n",
    "if saisie < 10:\n",
    "    print('Tu redoubles')\n",
    "elif saisie == 10:\n",
    "    print(\"Tu passes... Mais c'est juste !\")\n",
    "else:\n",
    "    print('Tu passes')\n"
   ]
  },
  {
   "cell_type": "code",
   "execution_count": 13,
   "id": "2b81bdf9-29f2-4bb6-9668-e6e67a067170",
   "metadata": {},
   "outputs": [
    {
     "name": "stdin",
     "output_type": "stream",
     "text": [
      " 10\n",
      " 2\n"
     ]
    },
    {
     "name": "stdout",
     "output_type": "stream",
     "text": [
      "102\n"
     ]
    }
   ],
   "source": [
    "valeur1 = input()\n",
    "valeur2 = input()\n",
    "print(valeur1+valeur2)"
   ]
  },
  {
   "cell_type": "code",
   "execution_count": 19,
   "id": "c5a14ca5-cee2-42fd-9d7c-a8a7bde9477f",
   "metadata": {},
   "outputs": [
    {
     "name": "stdin",
     "output_type": "stream",
     "text": [
      " Y\n"
     ]
    },
    {
     "name": "stdout",
     "output_type": "stream",
     "text": [
      "<class 'str'>\n"
     ]
    }
   ],
   "source": [
    "note1 = input()\n",
    "print(type(note1))"
   ]
  },
  {
   "cell_type": "code",
   "execution_count": 20,
   "id": "fd13cfef-abd9-4d30-9fb1-a32c6fe902aa",
   "metadata": {},
   "outputs": [
    {
     "name": "stdin",
     "output_type": "stream",
     "text": [
      "Y/N ? Y\n",
      "Y/N ? Y\n",
      "Y/N ? Y\n",
      "Y/N ? Y\n",
      "Y/N ? Y\n",
      "Y/N ? N\n"
     ]
    }
   ],
   "source": [
    "continuer = True\n",
    "while continuer:\n",
    "    saisie = input('Y/N ?')\n",
    "    if saisie == 'N':\n",
    "        continuer = False"
   ]
  },
  {
   "cell_type": "markdown",
   "id": "1430d081-e557-4a7b-b70c-c83a51e36f39",
   "metadata": {},
   "source": [
    "# Puzzle"
   ]
  },
  {
   "cell_type": "markdown",
   "id": "a50d4189-94c4-44e4-846a-4636e13a42f2",
   "metadata": {},
   "source": [
    "Dan est en charge de la promenande de 5 chiens qui lui sont confiés par 5 femmes. \n",
    "\n",
    "Le chien de Mme Brown, Loopsie ou Mooksie n'est pas un terrier.\n",
    "Woopsie, le caniche n'appartient pas à Mary.\n",
    "Le setter de Marion n'est pas Loopsie.\n",
    "Le basset de Margie s'appelle Smooksie ou Mooksie.\n",
    "Hilary qui n'est pas Mme Grey, est la maîtresse de Poopsie ou Smooksie.\n",
    "Martha Black n'est pas la maîtresse du dalmatien.\n",
    "Poopsie n'est pas à Mme Grey, mais Mooksie est à Mme White dont le prénom n'est pas Marion."
   ]
  },
  {
   "cell_type": "code",
   "execution_count": 95,
   "id": "b2b3549e-153d-490a-8c8d-23184333e27c",
   "metadata": {},
   "outputs": [
    {
     "name": "stdout",
     "output_type": "stream",
     "text": [
      "['Mary', 'Brown', 'terrier', 'Loopsie']\n"
     ]
    },
    {
     "data": {
      "text/plain": [
       "'\\nfiltre1 = []\\nfor p,n,r,c in comb:\\n    if c in [\"Loopsie\", \"Mooksie\"] or (not n == \"Brown\"):\\n        filtre1.append([p,n,r,c])\\n'"
      ]
     },
     "execution_count": 95,
     "metadata": {},
     "output_type": "execute_result"
    },
    {
     "name": "stdout",
     "output_type": "stream",
     "text": [
      "625\n",
      "550\n",
      "540\n",
      "370\n",
      "366\n",
      "238\n",
      "233\n",
      "141\n",
      "132\n",
      "123\n",
      "106\n",
      "60\n",
      "56\n",
      "53\n",
      "28\n",
      "27\n",
      "['Mary', 'Brown', 'dalmatien', 'Loopsie']\n",
      "['Mary', 'Grey', 'terrier', 'Loopsie']\n",
      "['Mary', 'Grey', 'terrier', 'Smooksie']\n",
      "['Mary', 'Grey', 'dalmatien', 'Loopsie']\n",
      "['Mary', 'Grey', 'dalmatien', 'Smooksie']\n",
      "['Mary', 'White', 'terrier', 'Mooksie']\n",
      "['Mary', 'White', 'dalmatien', 'Mooksie']\n",
      "['Mary', 'Green', 'terrier', 'Loopsie']\n",
      "['Mary', 'Green', 'terrier', 'Smooksie']\n",
      "['Mary', 'Green', 'terrier', 'Poopsie']\n",
      "['Mary', 'Green', 'dalmatien', 'Loopsie']\n",
      "['Mary', 'Green', 'dalmatien', 'Smooksie']\n",
      "['Mary', 'Green', 'dalmatien', 'Poopsie']\n",
      "['Marion', 'Grey', 'setter', 'Smooksie']\n",
      "['Marion', 'Green', 'setter', 'Smooksie']\n",
      "['Marion', 'Green', 'setter', 'Poopsie']\n",
      "['Margie', 'Grey', 'basset', 'Smooksie']\n",
      "['Margie', 'White', 'basset', 'Mooksie']\n",
      "['Margie', 'Green', 'basset', 'Smooksie']\n",
      "['Hilary', 'Green', 'terrier', 'Smooksie']\n",
      "['Hilary', 'Green', 'terrier', 'Poopsie']\n",
      "['Hilary', 'Green', 'dalmatien', 'Smooksie']\n",
      "['Hilary', 'Green', 'dalmatien', 'Poopsie']\n",
      "['Martha', 'Black', 'terrier', 'Loopsie']\n",
      "['Martha', 'Black', 'terrier', 'Smooksie']\n",
      "['Martha', 'Black', 'terrier', 'Poopsie']\n",
      "['Martha', 'Black', 'caniche', 'Woopsie']\n",
      "-------\n",
      "['Mary', 'Brown', 'dalmatien', 'Loopsie']\n",
      "['Marion', 'Grey', 'setter', 'Smooksie']\n",
      "['Margie', 'White', 'basset', 'Mooksie']\n",
      "['Hilary', 'Green', 'terrier', 'Poopsie']\n",
      "['Martha', 'Black', 'caniche', 'Woopsie']\n"
     ]
    }
   ],
   "source": [
    "from itertools import product\n",
    "\n",
    "prenoms = [\"Mary\", \"Marion\", \"Margie\", \"Hilary\", \"Martha\"]\n",
    "noms = [\"Brown\", \"Grey\", \"Black\", \"White\", \"Green\"]\n",
    "races= [\"terrier\", \"caniche\", \"dalmatien\", \"setter\", \"basset\"]\n",
    "chiens = [\"Loopsie\", \"Mooksie\", \"Smooksie\", \"Poopsie\", \"Woopsie\"]\n",
    "\n",
    "# on fabrique une liste de toutes les combinaisons possibles\n",
    "comb = [ [p,n,r,c] for p, n, r, c in product(prenoms, noms, races, chiens) ]\n",
    "print(comb[0])\n",
    "\n",
    "# \n",
    "'''\n",
    "filtre1 = []\n",
    "for p,n,r,c in comb:\n",
    "    if c in [\"Loopsie\", \"Mooksie\"] or (not n == \"Brown\"):\n",
    "        filtre1.append([p,n,r,c])\n",
    "'''\n",
    "        \n",
    "filtre1 = [ [p,n,r,c] for p,n,r,c in comb if (c in [\"Loopsie\", \"Mooksie\"]) or (not n == \"Brown\")]\n",
    "filtre2 = [ [p,n,r,c] for p,n,r,c in filtre1 if (r != \"terrier\") or (not n == 'Brown') ]\n",
    "filtre3 = [ [p,n,r,c] for p,n,r,c in filtre2 if (c == \"Woopsie\") == (r == 'caniche') ]\n",
    "filtre4 = [ [p,n,r,c] for p,n,r,c in filtre3 if p != \"Mary\" or not (c == 'Woopsie') ]\n",
    "filtre5 = [ [p,n,r,c] for p,n,r,c in filtre4 if (p == \"Marion\") == (r == 'setter') ]\n",
    "filtre6 = [ [p,n,r,c] for p,n,r,c in filtre5 if (c != \"Loopsie\") or not (p == 'Marion') ]\n",
    "filtre7 = [ [p,n,r,c] for p,n,r,c in filtre6 if (r == \"basset\") == (p == 'Margie') ]\n",
    "filtre8 = [ [p,n,r,c] for p,n,r,c in filtre7 if (c in [\"Smooksie\", \"Mooksie\"]) or not (r == \"basset\") ]\n",
    "filtre9 = [ [p,n,r,c] for p,n,r,c in filtre8 if not(p == \"Hilary\") or not (n == 'Grey') ]\n",
    "filtre10 = [ [p,n,r,c] for p,n,r,c in filtre9 if (c in [\"Poopsie\", \"Smooksie\"]) or not (p == \"Hilary\") ]\n",
    "filtre11 = [ [p,n,r,c] for p,n,r,c in filtre10 if (p == \"Martha\") == (n == \"Black\") ]\n",
    "\n",
    "filtre12 = [ [p,n,r,c] for p,n,r,c in filtre11 if not(p == \"Martha\") or not (r == \"dalmatien\") ]\n",
    "filtre13 = [ [p,n,r,c] for p,n,r,c in filtre12 if not(n == \"Grey\") or not(c == \"Poopsie\") ]\n",
    "filtre14 = [ [p,n,r,c] for p,n,r,c in filtre13 if (n == \"White\") == (c == \"Mooksie\") ]\n",
    "filtre15 = [ [p,n,r,c] for p,n,r,c in filtre14 if not(n == \"White\") or not(p == \"Marion\") ]\n",
    "\n",
    "# et c'est preque la fin rhaaaaaaaaaaaa['Margie', 'White', 'basset', 'Mooksie']\n",
    "filtre16 = [ [p,n,r,c] for p,n,r,c in filtre15 if (p == \"Mary\") == (n == \"Brown\") == (c == \"Loopsie\") == (r == \"dalmatien\") ]\n",
    "filtre17 = [ [p,n,r,c] for p,n,r,c in filtre16 if (p == \"Margie\") == (n == \"White\") == (c == \"Mooksie\") == (r == \"basset\") ]\n",
    "filtre18 = [ [p,n,r,c] for p,n,r,c in filtre17 if (p == \"Marion\") == (n == \"Grey\") == (c == \"Smooksie\") == (r == \"setter\") ]\n",
    "filtre19 = [ [p,n,r,c] for p,n,r,c in filtre18 if (p == \"Hilary\") == (n == \"Green\") == (c == \"Poopsie\") == (r == \"terrier\") ]\n",
    "\n",
    "print(len(comb))\n",
    "print(len(filtre1))\n",
    "print(len(filtre2))\n",
    "print(len(filtre3))\n",
    "print(len(filtre4))\n",
    "print(len(filtre5))       \n",
    "print(len(filtre6))        \n",
    "print(len(filtre7))\n",
    "print(len(filtre8))\n",
    "print(len(filtre9))\n",
    "print(len(filtre10))\n",
    "print(len(filtre11))\n",
    "print(len(filtre12))\n",
    "print(len(filtre13))\n",
    "print(len(filtre14))\n",
    "print(len(filtre15))\n",
    "\n",
    "for i in range(len(filtre15)):\n",
    "    print(filtre15[i])\n",
    "print('-------')\n",
    "for i in range(len(filtre19)):\n",
    "    print(filtre19[i])\n",
    "    \n"
   ]
  },
  {
   "cell_type": "code",
   "execution_count": 20,
   "id": "fc03e194-3b18-4bcf-a76e-d8fa44a21f1e",
   "metadata": {},
   "outputs": [
    {
     "name": "stdout",
     "output_type": "stream",
     "text": [
      "Michel\n",
      "Corinne\n"
     ]
    }
   ],
   "source": [
    "# dictionnaire\n",
    "michel = {\n",
    "    \"pseudo\" : \"Michel\",\n",
    "    \"password\" : \"secret\",\n",
    "    \"date_inscription\" : \"20112021\"\n",
    "}\n",
    "\n",
    "corinne = {\n",
    "    \"pseudo\" : \"Corinne\",\n",
    "    \"password\" : \"secret\",\n",
    "    \"date_inscription\" : \"20221111\"\n",
    "}\n",
    "\n",
    "adherents = [michel, corinne]\n",
    "for i in range(len(adherents)):\n",
    "    print(adherents[i]['pseudo'])\n"
   ]
  },
  {
   "cell_type": "markdown",
   "id": "36a886ea-2090-41f9-ad6d-61c3b18efa25",
   "metadata": {},
   "source": [
    "# Networkx"
   ]
  },
  {
   "cell_type": "code",
   "execution_count": 13,
   "id": "a89d1508-e12a-47e1-9841-77a4aad8ddc8",
   "metadata": {},
   "outputs": [
    {
     "name": "stdout",
     "output_type": "stream",
     "text": [
      "[1, 2, 3, 4, 7, 9]\n",
      "[(1, 2), (1, 3), (1, 4), (1, 9), (1, 7), (2, 4), (2, 9)]\n",
      "6\n",
      "7\n"
     ]
    },
    {
     "data": {
      "image/png": "[encoded data removed]",
      "text/plain": [
       "<Figure size 640x480 with 1 Axes>"
      ]
     },
     "metadata": {},
     "output_type": "display_data"
    }
   ],
   "source": [
    "# importer le module networkx\n",
    "import networkx as nx\n",
    "# générer un nouveau graphe\n",
    "G = nx.Graph()\n",
    "\n",
    "# ajouter un noeud à la fois\n",
    "G.add_node(1)\n",
    "G.add_node(2)\n",
    "G.add_node(3)\n",
    "G.add_node(4)\n",
    "G.add_node(7)\n",
    "G.add_node(9)\n",
    "\n",
    "# ajouter les arêtes\n",
    "G.add_edge(1,2)\n",
    "G.add_edge(3,1)\n",
    "G.add_edge(2,4)\n",
    "G.add_edge(4,1)\n",
    "G.add_edge(9,1)\n",
    "G.add_edge(1,7)\n",
    "G.add_edge(2,9)\n",
    "\n",
    "# Liste de tous les noeuds du graphe\n",
    "node_list = G.nodes()\n",
    "print(node_list)\n",
    "  \n",
    "# Liste de toutes les arêtes du graphe\n",
    "edge_list = G.edges()\n",
    "print(edge_list)\n",
    "\n",
    "# Nombre de noeuds\n",
    "n = G.number_of_nodes()\n",
    "print(n)\n",
    "  \n",
    "# Nombre d'arêtes\n",
    "m = G.number_of_edges()\n",
    "print(m)\n",
    "\n",
    "# dessiner\n",
    "nx.draw(G)"
   ]
  },
  {
   "cell_type": "markdown",
   "id": "29760f34-9086-41ba-b801-5235fcae4bb8",
   "metadata": {},
   "source": [
    "# Double imbrication"
   ]
  },
  {
   "cell_type": "code",
   "execution_count": 12,
   "id": "98ca0c40-9377-4da0-92e1-6259987f2472",
   "metadata": {},
   "outputs": [
    {
     "name": "stdout",
     "output_type": "stream",
     "text": [
      "[1, 2, 3, 4, 5]\n",
      "[2, 3, 4, 5, 6]\n",
      "[3, 5, 7, 9, 11]\n",
      "[5, 13, 29, 61, 125]\n"
     ]
    }
   ],
   "source": [
    "def A(m,n):\n",
    "    if m == 0:\n",
    "        return n+1\n",
    "    elif n == 0:\n",
    "        return A(m-1,1)\n",
    "    else:\n",
    "        return A(m-1, A(m, n-1))\n",
    "\n",
    "tests = []\n",
    "for m in range(4):\n",
    "    bloc = []\n",
    "    for n in range(5):\n",
    "        bloc.append(A(m,n))\n",
    "    tests.append(bloc)\n",
    "\n",
    "for ligne in tests:\n",
    "    print(ligne)"
   ]
  },
  {
   "cell_type": "markdown",
   "id": "61872225-5a76-4131-80c2-f85dd34e29bb",
   "metadata": {},
   "source": [
    "A(0,n) = n+1\n",
    "A(m,0) = A(m-1, 1)\n",
    "A(m,n) = A(m-1, A(m, n-1) pour m>0 et n>0\n",
    "\n"
   ]
  },
  {
   "cell_type": "code",
   "execution_count": null,
   "id": "6cf8e6af-1cd6-46f8-abc9-e82bb221e081",
   "metadata": {},
   "outputs": [],
   "source": []
  }
 ],
 "metadata": {
  "kernelspec": {
   "display_name": "Python 3 (ipykernel)",
   "language": "python",
   "name": "python3"
  },
  "language_info": {
   "codemirror_mode": {
    "name": "ipython",
    "version": 3
   },
   "file_extension": ".py",
   "mimetype": "text/x-python",
   "name": "python",
   "nbconvert_exporter": "python",
   "pygments_lexer": "ipython3",
   "version": "3.11.2"
  }
 },
 "nbformat": 4,
 "nbformat_minor": 5
}
