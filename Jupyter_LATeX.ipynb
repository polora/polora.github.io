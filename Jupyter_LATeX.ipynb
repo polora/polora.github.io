{
 "cells": [
  {
   "cell_type": "markdown",
   "id": "87f7e770-1673-45f5-be54-5b976a952ddc",
   "metadata": {},
   "source": [
    "# LATeX dans Jupyter Notebook"
   ]
  },
  {
   "cell_type": "markdown",
   "id": "dcc406a6-2f13-44d1-8a99-f43bebb18125",
   "metadata": {},
   "source": [
    "Bac à sable qui regroupe quelques formules de Mathématiques usuelles écrite en LATeX dans un notebook Jupyter.\n",
    "\n",
    "Cliquer sur la cellule pour voir le code."
   ]
  },
  {
   "cell_type": "markdown",
   "id": "8298f466-6b02-48e2-98e8-f7e7ea24b6b4",
   "metadata": {},
   "source": [
    "### Equations - polynômes : exposants et indices\n",
    "\n",
    ">$f(x) = ax² + bx + c$\n",
    ">\n",
    ">$P(x) = 3x³ + 4x² - 2x + 8$\n",
    ">\n",
    ">Polynôme de degré n : $P(x) = a_nx^n + a_{n-1}x^{n-1}+\\cdots+a_1x¹+a_0x⁰$\n",
    ">\n",
    ">Soit une suite $(v_n)$, avec\n",
    ">$v_0=1$, telle que \n",
    ">$v_n-1 = v_{n-1}$"
   ]
  },
  {
   "cell_type": "markdown",
   "id": "f2173099-92aa-4a30-9fbb-65c7e01d9499",
   "metadata": {},
   "source": [
    "### Fractions\n",
    "\n",
    ">$\\frac{1}{2}$\n",
    ">\n",
    ">\n",
    ">$\\frac{\\alpha}{6 + \\sqrt{2}}$"
   ]
  },
  {
   "cell_type": "markdown",
   "id": "07024e4a-7aed-46ff-ad8e-57348f2ca360",
   "metadata": {},
   "source": [
    "### Racine\n",
    ">\n",
    ">$\\sqrt{x} = x^{1/2}$\n",
    ">"
   ]
  },
  {
   "cell_type": "markdown",
   "id": "ac284562-b63a-4df2-8e47-6d74d24b93c5",
   "metadata": {},
   "source": [
    "### Limites\n",
    "\n",
    ">$\\lim\\limits_{x \\to +\\infty} \\frac{1}{x} = 0$"
   ]
  },
  {
   "cell_type": "markdown",
   "id": "0414108b-b48c-44e7-9587-c854cec49b81",
   "metadata": {},
   "source": [
    "### Sommes\n",
    "\n",
    ">$1+2+3+\\cdots+10=\\sum_{n=1}^{10}n$\n",
    ">\n",
    ">$\\lim_{n \\to \\infty} \\sum_{k=1}^n \\frac{1}{k^2} = \\frac{\\pi^2}{6}$"
   ]
  },
  {
   "cell_type": "markdown",
   "id": "879107c6-f211-4f61-a776-4b6d60e7bcf1",
   "metadata": {},
   "source": [
    "### Dérivées\n",
    ">$f(x) = x²$\n",
    ">\n",
    ">$f'(x) = 2x$\n",
    ">\n",
    ">$f''(x) = 2$\n"
   ]
  },
  {
   "cell_type": "markdown",
   "id": "afd2f4a7-1a43-4bd2-82fd-5762bbdd91da",
   "metadata": {},
   "source": [
    "### Intégrales\n",
    "\n",
    ">$\\int_{a}^b f(x)dx$\n",
    ">\n",
    ">$\\int_{-\\infty}^{+\\infty} f(x) dx$\n"
   ]
  },
  {
   "cell_type": "markdown",
   "id": "dbf18af1-9355-42ed-9657-f1fbc21807b5",
   "metadata": {},
   "source": [
    "### Logarithmes et exponentielle\n",
    "\n",
    ">$f(x) = e^x$\n",
    ">\n",
    ">$f(x) = ln(x)$\n",
    ">\n",
    ">$f(x) = log(x)$\n",
    ">\n",
    ">$\\lim \\limits_{x \\to -\\infty} e^x = 0$ et $\\lim \\limits_{x \\to +\\infty} e^x = + \\infty$ \n"
   ]
  },
  {
   "cell_type": "markdown",
   "id": "23b2499f-a69a-4a6b-bc71-4efbc9807ebf",
   "metadata": {},
   "source": [
    "### Autres formules\n",
    ">$\\forall x \\in \\mathbb{R}: \\qquad x^{2} \\geq 0$\n",
    ">\n",
    ">$x^3  + 2xy = 82$ avec $x, y \\in \\mathbb{N}$"
   ]
  },
  {
   "cell_type": "markdown",
   "id": "fd11e6d2-6c29-4633-ace4-298b7e0cb1c0",
   "metadata": {},
   "source": [
    "### Pour aller plus loin\n",
    "\n",
    "[https://latexref.xyz/fr/Math-symbols.html](https://latexref.xyz/fr/Math-symbols.html)"
   ]
  },
  {
   "cell_type": "code",
   "execution_count": null,
   "id": "76e8cd8d-5d3e-4d00-a6f1-94fe30f22a7c",
   "metadata": {},
   "outputs": [],
   "source": []
  }
 ],
 "metadata": {
  "kernelspec": {
   "display_name": "Python 3 (ipykernel)",
   "language": "python",
   "name": "python3"
  },
  "language_info": {
   "codemirror_mode": {
    "name": "ipython",
    "version": 3
   },
   "file_extension": ".py",
   "mimetype": "text/x-python",
   "name": "python",
   "nbconvert_exporter": "python",
   "pygments_lexer": "ipython3",
   "version": "3.11.2"
  }
 },
 "nbformat": 4,
 "nbformat_minor": 5
}
